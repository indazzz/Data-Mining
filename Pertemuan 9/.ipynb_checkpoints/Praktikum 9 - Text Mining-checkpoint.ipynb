{
 "cells": [
  {
   "cell_type": "markdown",
   "id": "3e73123f",
   "metadata": {},
   "source": [
    "# Membuat kalimat yang akan di proses menggunakan preprocessing"
   ]
  },
  {
   "cell_type": "code",
   "execution_count": 1,
   "id": "f146c85a",
   "metadata": {
    "scrolled": true
   },
   "outputs": [
    {
     "data": {
      "text/plain": [
       "['belajar preprocessing yang lebih sederhana,preprocessing data pada text mining']"
      ]
     },
     "execution_count": 1,
     "metadata": {},
     "output_type": "execute_result"
    }
   ],
   "source": [
    "kalimat=['belajar preprocessing yang lebih sederhana,'\n",
    "         'preprocessing data pada text mining']\n",
    "kalimat"
   ]
  },
  {
   "cell_type": "markdown",
   "id": "7f289d05",
   "metadata": {},
   "source": [
    "# Menginstall ‘punkt’"
   ]
  },
  {
   "cell_type": "code",
   "execution_count": 2,
   "id": "1fc5deea",
   "metadata": {},
   "outputs": [
    {
     "name": "stderr",
     "output_type": "stream",
     "text": [
      "[nltk_data] Downloading package punkt to\n",
      "[nltk_data]     C:\\Users\\user\\AppData\\Roaming\\nltk_data...\n",
      "[nltk_data]   Package punkt is already up-to-date!\n"
     ]
    },
    {
     "data": {
      "text/plain": [
       "True"
      ]
     },
     "execution_count": 2,
     "metadata": {},
     "output_type": "execute_result"
    }
   ],
   "source": [
    "import nltk\n",
    "nltk.download('punkt')"
   ]
  },
  {
   "cell_type": "markdown",
   "id": "cc1c8c31",
   "metadata": {},
   "source": [
    "# nltk.tokenize library yang digunakan untuk melakukan token atau memecah kalimat menjadi kata"
   ]
  },
  {
   "cell_type": "code",
   "execution_count": 3,
   "id": "919aaf50",
   "metadata": {},
   "outputs": [],
   "source": [
    "from nltk.tokenize import word_tokenize"
   ]
  },
  {
   "cell_type": "markdown",
   "id": "ec7e3a94",
   "metadata": {},
   "source": [
    "#  Memecah kalimat menjadi kata dengan acuan spasi sebagai pemisahnya"
   ]
  },
  {
   "cell_type": "code",
   "execution_count": 4,
   "id": "548b7e35",
   "metadata": {},
   "outputs": [
    {
     "name": "stdout",
     "output_type": "stream",
     "text": [
      "['belajar', 'preprocessing', 'yang', 'lebih', 'sederhana', ',', 'preprocessing', 'data', 'pada', 'text', 'mining']\n"
     ]
    }
   ],
   "source": [
    "list_token = []\n",
    "for reviews in kalimat:\n",
    "    word_token = word_tokenize(reviews)\n",
    "    list_token.append(word_token)\n",
    "    print (word_token)"
   ]
  },
  {
   "cell_type": "markdown",
   "id": "320ff9c7",
   "metadata": {},
   "source": [
    "#  Menghilangkan kata hubung yang terdapat pada kalimat"
   ]
  },
  {
   "cell_type": "code",
   "execution_count": 5,
   "id": "a40d89be",
   "metadata": {},
   "outputs": [
    {
     "name": "stdout",
     "output_type": "stream",
     "text": [
      "['belajar', 'preprocessing', 'lebih', 'sederhana', 'preprocessing', 'data', 'text', 'mining']\n"
     ]
    }
   ],
   "source": [
    "data_stopword = [\"yg\", \"yang\", \"lah\", \"juga\",\"adalah\",\"pada\",\",\",'.']\n",
    "list_sentence = []\n",
    "for reviews in list_token:\n",
    "    data_clean = []\n",
    "for review in reviews:\n",
    "    if review not in data_stopword:\n",
    "        data_clean.append(review)\n",
    "print (data_clean) \n",
    "list_sentence.append(data_clean)"
   ]
  },
  {
   "cell_type": "markdown",
   "id": "d5b2cb55",
   "metadata": {},
   "source": [
    "# Library yang digunakan untuk stemming yaitu Sastrawi"
   ]
  },
  {
   "cell_type": "markdown",
   "id": "c20196a0",
   "metadata": {},
   "source": [
    "Stemming adalah proses pemetaan dan penguraian bentuk dari suatu kata menjadi bentuk kata dasarnya"
   ]
  },
  {
   "cell_type": "code",
   "execution_count": 6,
   "id": "0c402b59",
   "metadata": {},
   "outputs": [],
   "source": [
    "from Sastrawi.Stemmer.StemmerFactory import StemmerFactory\n",
    "factory = StemmerFactory()\n",
    "stemmer = factory.create_stemmer()"
   ]
  },
  {
   "cell_type": "markdown",
   "id": "1b09514b",
   "metadata": {},
   "source": [
    "# Dilakukan pengecekan pada setiap kata, jika terdapat kata berimbuhan maka akan diproses untuk menghilangkan kata berimbuhan tersebut"
   ]
  },
  {
   "cell_type": "code",
   "execution_count": 7,
   "id": "11e96da9",
   "metadata": {},
   "outputs": [
    {
     "name": "stdout",
     "output_type": "stream",
     "text": [
      "['ajar']\n",
      "['ajar', 'preprocessing']\n",
      "['ajar', 'preprocessing', 'lebih']\n",
      "['ajar', 'preprocessing', 'lebih', 'sederhana']\n",
      "['ajar', 'preprocessing', 'lebih', 'sederhana', 'preprocessing']\n",
      "['ajar', 'preprocessing', 'lebih', 'sederhana', 'preprocessing', 'data']\n",
      "['ajar', 'preprocessing', 'lebih', 'sederhana', 'preprocessing', 'data', 'text']\n",
      "['ajar', 'preprocessing', 'lebih', 'sederhana', 'preprocessing', 'data', 'text', 'mining']\n"
     ]
    }
   ],
   "source": [
    "list_stem = []\n",
    "for reviews in list_token:\n",
    "    data_clean = []\n",
    "    for review in reviews:\n",
    "        if review not in data_stopword:\n",
    "            data_clean.append(stemmer.stem(review)) \n",
    "            print (data_clean)\n",
    "            list_stem.append(data_clean)"
   ]
  },
  {
   "cell_type": "markdown",
   "id": "269e1948",
   "metadata": {},
   "source": [
    "#  Menghitung bobot kata"
   ]
  },
  {
   "cell_type": "code",
   "execution_count": 8,
   "id": "8881ebbc",
   "metadata": {},
   "outputs": [
    {
     "name": "stdout",
     "output_type": "stream",
     "text": [
      "7\n"
     ]
    }
   ],
   "source": [
    "from sklearn.feature_extraction.text import CountVectorizer, TfidfTransformer\n",
    "CV = CountVectorizer()\n",
    "term_fit=CV.fit(data_clean)\n",
    "print (len(term_fit.vocabulary_))"
   ]
  },
  {
   "cell_type": "markdown",
   "id": "b417f07a",
   "metadata": {},
   "source": [
    "# Memunculkan kata dasar hasil dari pengolahan preprocessing"
   ]
  },
  {
   "cell_type": "code",
   "execution_count": 9,
   "id": "caefd1a0",
   "metadata": {},
   "outputs": [
    {
     "name": "stdout",
     "output_type": "stream",
     "text": [
      "{'ajar': 0, 'preprocessing': 4, 'lebih': 2, 'sederhana': 5, 'data': 1, 'text': 6, 'mining': 3}\n"
     ]
    }
   ],
   "source": [
    "print (term_fit.vocabulary_)"
   ]
  },
  {
   "cell_type": "code",
   "execution_count": 10,
   "id": "92d8bbaa",
   "metadata": {},
   "outputs": [
    {
     "name": "stdout",
     "output_type": "stream",
     "text": [
      "  (0, 1)\t1\n",
      "  (0, 2)\t1\n",
      "  (0, 3)\t1\n",
      "  (0, 4)\t2\n",
      "  (0, 5)\t1\n",
      "  (0, 6)\t1\n",
      "  (0, 6)\t0.35783960568847223\n",
      "  (0, 5)\t0.35783960568847223\n",
      "  (0, 4)\t0.5997950341604984\n",
      "  (0, 3)\t0.35783960568847223\n",
      "  (0, 2)\t0.35783960568847223\n",
      "  (0, 1)\t0.35783960568847223\n"
     ]
    }
   ],
   "source": [
    "term_frekuency = term_fit.transform(kalimat)\n",
    "print (term_frekuency)\n",
    "term = term_fit.transform(data_clean) \n",
    "tfidf_transformer = TfidfTransformer().fit(term) #untuk menampung sumua kata\n",
    "tfidf = tfidf_transformer.transform(term_frekuency)   #menampung semua tapi hanya ingiin menampilkan term frekuensi\n",
    "print (tfidf)"
   ]
  },
  {
   "cell_type": "code",
   "execution_count": null,
   "id": "828fe929",
   "metadata": {},
   "outputs": [],
   "source": []
  }
 ],
 "metadata": {
  "kernelspec": {
   "display_name": "Python 3 (ipykernel)",
   "language": "python",
   "name": "python3"
  },
  "language_info": {
   "codemirror_mode": {
    "name": "ipython",
    "version": 3
   },
   "file_extension": ".py",
   "mimetype": "text/x-python",
   "name": "python",
   "nbconvert_exporter": "python",
   "pygments_lexer": "ipython3",
   "version": "3.9.12"
  }
 },
 "nbformat": 4,
 "nbformat_minor": 5
}
