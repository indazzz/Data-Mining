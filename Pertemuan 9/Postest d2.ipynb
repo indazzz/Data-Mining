{
 "cells": [
  {
   "cell_type": "code",
   "execution_count": 1,
   "id": "3df7d860",
   "metadata": {},
   "outputs": [
    {
     "data": {
      "text/plain": [
       "['Selama kuliah kamu akan banyak mengkaji pemrograman dan komputasi. Tentunya kamu akan dibekali dengan keterampilan merancang perangkat lunak.']"
      ]
     },
     "execution_count": 1,
     "metadata": {},
     "output_type": "execute_result"
    }
   ],
   "source": [
    "kalimat=['Selama kuliah kamu akan banyak mengkaji pemrograman dan komputasi. Tentunya kamu akan dibekali dengan keterampilan merancang perangkat lunak.']\n",
    "kalimat"
   ]
  },
  {
   "cell_type": "code",
   "execution_count": 2,
   "id": "286a2074",
   "metadata": {},
   "outputs": [
    {
     "name": "stderr",
     "output_type": "stream",
     "text": [
      "[nltk_data] Downloading package punkt to\n",
      "[nltk_data]     C:\\Users\\Praktikan\\AppData\\Roaming\\nltk_data...\n",
      "[nltk_data]   Package punkt is already up-to-date!\n"
     ]
    },
    {
     "data": {
      "text/plain": [
       "True"
      ]
     },
     "execution_count": 2,
     "metadata": {},
     "output_type": "execute_result"
    }
   ],
   "source": [
    "import nltk\n",
    "nltk.download('punkt')"
   ]
  },
  {
   "cell_type": "code",
   "execution_count": 3,
   "id": "c7268737",
   "metadata": {},
   "outputs": [],
   "source": [
    "from nltk.tokenize import word_tokenize"
   ]
  },
  {
   "cell_type": "code",
   "execution_count": 4,
   "id": "91abd808",
   "metadata": {},
   "outputs": [
    {
     "name": "stdout",
     "output_type": "stream",
     "text": [
      "['Selama', 'kuliah', 'kamu', 'akan', 'banyak', 'mengkaji', 'pemrograman', 'dan', 'komputasi', '.', 'Tentunya', 'kamu', 'akan', 'dibekali', 'dengan', 'keterampilan', 'merancang', 'perangkat', 'lunak', '.']\n"
     ]
    }
   ],
   "source": [
    "list_token = []\n",
    "for reviews in kalimat:\n",
    "    word_token = word_tokenize(reviews)\n",
    "    list_token.append(word_token)\n",
    "    print (word_token)"
   ]
  },
  {
   "cell_type": "code",
   "execution_count": 12,
   "id": "e59c0d62",
   "metadata": {},
   "outputs": [
    {
     "name": "stdout",
     "output_type": "stream",
     "text": [
      "['Selama', 'kuliah', 'banyak', 'mengkaji', 'pemrograman', 'komputasi', 'dibekali', 'keterampilan', 'merancang', 'perangkat', 'lunak']\n"
     ]
    }
   ],
   "source": [
    "data_stopword = [\"kamu\", \"akan\", \"dan\", \".\",\"dengan\", \"Tentunya\"]\n",
    "list_sentence = []\n",
    "for reviews in list_token:\n",
    "    data_clean = []\n",
    "for review in reviews:\n",
    "    if review not in data_stopword:\n",
    "        data_clean.append(review)\n",
    "print (data_clean) \n",
    "list_sentence.append(data_clean)"
   ]
  },
  {
   "cell_type": "code",
   "execution_count": 13,
   "id": "dafac91e",
   "metadata": {},
   "outputs": [],
   "source": [
    "from Sastrawi.Stemmer.StemmerFactory import StemmerFactory\n",
    "factory = StemmerFactory()\n",
    "stemmer = factory.create_stemmer()"
   ]
  },
  {
   "cell_type": "code",
   "execution_count": 14,
   "id": "1bf4d72c",
   "metadata": {},
   "outputs": [
    {
     "name": "stdout",
     "output_type": "stream",
     "text": [
      "['lama']\n",
      "['lama', 'kuliah']\n",
      "['lama', 'kuliah', 'banyak']\n",
      "['lama', 'kuliah', 'banyak', 'kaji']\n",
      "['lama', 'kuliah', 'banyak', 'kaji', 'pemrograman']\n",
      "['lama', 'kuliah', 'banyak', 'kaji', 'pemrograman', 'komputasi']\n",
      "['lama', 'kuliah', 'banyak', 'kaji', 'pemrograman', 'komputasi', 'bekal']\n",
      "['lama', 'kuliah', 'banyak', 'kaji', 'pemrograman', 'komputasi', 'bekal', 'terampil']\n",
      "['lama', 'kuliah', 'banyak', 'kaji', 'pemrograman', 'komputasi', 'bekal', 'terampil', 'rancang']\n",
      "['lama', 'kuliah', 'banyak', 'kaji', 'pemrograman', 'komputasi', 'bekal', 'terampil', 'rancang', 'perangkat']\n",
      "['lama', 'kuliah', 'banyak', 'kaji', 'pemrograman', 'komputasi', 'bekal', 'terampil', 'rancang', 'perangkat', 'lunak']\n"
     ]
    }
   ],
   "source": [
    "list_stem = []\n",
    "for reviews in list_token:\n",
    "    data_clean = []\n",
    "    for review in reviews:\n",
    "        if review not in data_stopword:\n",
    "            data_clean.append(stemmer.stem(review)) \n",
    "            print (data_clean)\n",
    "            list_stem.append(data_clean)"
   ]
  },
  {
   "cell_type": "code",
   "execution_count": 15,
   "id": "5e50f908",
   "metadata": {},
   "outputs": [
    {
     "name": "stdout",
     "output_type": "stream",
     "text": [
      "11\n"
     ]
    }
   ],
   "source": [
    "from sklearn.feature_extraction.text import CountVectorizer, TfidfTransformer\n",
    "CV = CountVectorizer()\n",
    "term_fit=CV.fit(data_clean)\n",
    "print (len(term_fit.vocabulary_))"
   ]
  },
  {
   "cell_type": "code",
   "execution_count": 16,
   "id": "29f559bf",
   "metadata": {},
   "outputs": [
    {
     "name": "stdout",
     "output_type": "stream",
     "text": [
      "{'lama': 5, 'kuliah': 4, 'banyak': 0, 'kaji': 2, 'pemrograman': 7, 'komputasi': 3, 'bekal': 1, 'terampil': 10, 'rancang': 9, 'perangkat': 8, 'lunak': 6}\n"
     ]
    }
   ],
   "source": [
    "print (term_fit.vocabulary_)"
   ]
  },
  {
   "cell_type": "code",
   "execution_count": 17,
   "id": "d891f5d9",
   "metadata": {},
   "outputs": [
    {
     "name": "stdout",
     "output_type": "stream",
     "text": [
      "  (0, 0)\t1\n",
      "  (0, 3)\t1\n",
      "  (0, 4)\t1\n",
      "  (0, 6)\t1\n",
      "  (0, 7)\t1\n",
      "  (0, 8)\t1\n",
      "  (0, 8)\t0.408248290463863\n",
      "  (0, 7)\t0.408248290463863\n",
      "  (0, 6)\t0.408248290463863\n",
      "  (0, 4)\t0.408248290463863\n",
      "  (0, 3)\t0.408248290463863\n",
      "  (0, 0)\t0.408248290463863\n"
     ]
    }
   ],
   "source": [
    "term_frekuency = term_fit.transform(kalimat)\n",
    "print (term_frekuency)\n",
    "term = term_fit.transform(data_clean) \n",
    "tfidf_transformer = TfidfTransformer().fit(term) #untuk menampung sumua kata\n",
    "tfidf = tfidf_transformer.transform(term_frekuency)   #menampung semua tapi hanya ingiin menampilkan term frekuensi\n",
    "print (tfidf)"
   ]
  },
  {
   "cell_type": "code",
   "execution_count": null,
   "id": "8d000273",
   "metadata": {},
   "outputs": [],
   "source": []
  }
 ],
 "metadata": {
  "kernelspec": {
   "display_name": "Python 3 (ipykernel)",
   "language": "python",
   "name": "python3"
  },
  "language_info": {
   "codemirror_mode": {
    "name": "ipython",
    "version": 3
   },
   "file_extension": ".py",
   "mimetype": "text/x-python",
   "name": "python",
   "nbconvert_exporter": "python",
   "pygments_lexer": "ipython3",
   "version": "3.9.12"
  }
 },
 "nbformat": 4,
 "nbformat_minor": 5
}
