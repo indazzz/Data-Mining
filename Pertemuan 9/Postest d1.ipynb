{
 "cells": [
  {
   "cell_type": "code",
   "execution_count": 1,
   "id": "675d3662",
   "metadata": {},
   "outputs": [
    {
     "data": {
      "text/plain": [
       "['Teknik Informatika merupakan bidang ilmu yang mempelajari bagaimana menggunakan teknologi komputer secara optimal guna menangani masalah transformasi atau pengolahan data dengan proses logika.']"
      ]
     },
     "execution_count": 1,
     "metadata": {},
     "output_type": "execute_result"
    }
   ],
   "source": [
    "kalimat=['Teknik Informatika merupakan bidang ilmu yang mempelajari bagaimana menggunakan teknologi komputer secara optimal guna menangani masalah transformasi atau pengolahan data dengan proses logika.']\n",
    "kalimat"
   ]
  },
  {
   "cell_type": "code",
   "execution_count": 2,
   "id": "97991668",
   "metadata": {},
   "outputs": [
    {
     "name": "stderr",
     "output_type": "stream",
     "text": [
      "[nltk_data] Downloading package punkt to\n",
      "[nltk_data]     C:\\Users\\Praktikan\\AppData\\Roaming\\nltk_data...\n",
      "[nltk_data]   Package punkt is already up-to-date!\n"
     ]
    },
    {
     "data": {
      "text/plain": [
       "True"
      ]
     },
     "execution_count": 2,
     "metadata": {},
     "output_type": "execute_result"
    }
   ],
   "source": [
    "import nltk\n",
    "nltk.download('punkt')"
   ]
  },
  {
   "cell_type": "code",
   "execution_count": 3,
   "id": "f2b96e39",
   "metadata": {},
   "outputs": [],
   "source": [
    "from nltk.tokenize import word_tokenize"
   ]
  },
  {
   "cell_type": "code",
   "execution_count": 4,
   "id": "7e4ea15a",
   "metadata": {},
   "outputs": [
    {
     "name": "stdout",
     "output_type": "stream",
     "text": [
      "['Teknik', 'Informatika', 'merupakan', 'bidang', 'ilmu', 'yang', 'mempelajari', 'bagaimana', 'menggunakan', 'teknologi', 'komputer', 'secara', 'optimal', 'guna', 'menangani', 'masalah', 'transformasi', 'atau', 'pengolahan', 'data', 'dengan', 'proses', 'logika', '.']\n"
     ]
    }
   ],
   "source": [
    "list_token = []\n",
    "for reviews in kalimat:\n",
    "    word_token = word_tokenize(reviews)\n",
    "    list_token.append(word_token)\n",
    "    print (word_token)"
   ]
  },
  {
   "cell_type": "code",
   "execution_count": 14,
   "id": "1794716b",
   "metadata": {},
   "outputs": [
    {
     "name": "stdout",
     "output_type": "stream",
     "text": [
      "['Teknik', 'Informatika', 'bidang', 'ilmu', 'mempelajari', 'menggunakan', 'teknologi', 'komputer', 'optimal', 'guna', 'masalah', 'transformasi', 'pengolahan', 'data', 'proses', 'logika']\n"
     ]
    }
   ],
   "source": [
    "data_stopword = [\"merupakan\", \"yang\", \"bagaimana\", \"atau\", \"dengan\", \"menangani\", \",\", \".\", \"secara\"]\n",
    "list_sentence = []\n",
    "for reviews in list_token:\n",
    "    data_clean = []\n",
    "for review in reviews:\n",
    "    if review not in data_stopword:\n",
    "        data_clean.append(review)\n",
    "print (data_clean) \n",
    "list_sentence.append(data_clean)"
   ]
  },
  {
   "cell_type": "code",
   "execution_count": 15,
   "id": "6fa373e1",
   "metadata": {},
   "outputs": [],
   "source": [
    "from Sastrawi.Stemmer.StemmerFactory import StemmerFactory\n",
    "factory = StemmerFactory()\n",
    "stemmer = factory.create_stemmer()"
   ]
  },
  {
   "cell_type": "code",
   "execution_count": 16,
   "id": "2b08e96e",
   "metadata": {},
   "outputs": [
    {
     "name": "stdout",
     "output_type": "stream",
     "text": [
      "['teknik']\n",
      "['teknik', 'informatika']\n",
      "['teknik', 'informatika', 'bidang']\n",
      "['teknik', 'informatika', 'bidang', 'ilmu']\n",
      "['teknik', 'informatika', 'bidang', 'ilmu', 'ajar']\n",
      "['teknik', 'informatika', 'bidang', 'ilmu', 'ajar', 'guna']\n",
      "['teknik', 'informatika', 'bidang', 'ilmu', 'ajar', 'guna', 'teknologi']\n",
      "['teknik', 'informatika', 'bidang', 'ilmu', 'ajar', 'guna', 'teknologi', 'komputer']\n",
      "['teknik', 'informatika', 'bidang', 'ilmu', 'ajar', 'guna', 'teknologi', 'komputer', 'optimal']\n",
      "['teknik', 'informatika', 'bidang', 'ilmu', 'ajar', 'guna', 'teknologi', 'komputer', 'optimal', 'guna']\n",
      "['teknik', 'informatika', 'bidang', 'ilmu', 'ajar', 'guna', 'teknologi', 'komputer', 'optimal', 'guna', 'masalah']\n",
      "['teknik', 'informatika', 'bidang', 'ilmu', 'ajar', 'guna', 'teknologi', 'komputer', 'optimal', 'guna', 'masalah', 'transformasi']\n",
      "['teknik', 'informatika', 'bidang', 'ilmu', 'ajar', 'guna', 'teknologi', 'komputer', 'optimal', 'guna', 'masalah', 'transformasi', 'olah']\n",
      "['teknik', 'informatika', 'bidang', 'ilmu', 'ajar', 'guna', 'teknologi', 'komputer', 'optimal', 'guna', 'masalah', 'transformasi', 'olah', 'data']\n",
      "['teknik', 'informatika', 'bidang', 'ilmu', 'ajar', 'guna', 'teknologi', 'komputer', 'optimal', 'guna', 'masalah', 'transformasi', 'olah', 'data', 'proses']\n",
      "['teknik', 'informatika', 'bidang', 'ilmu', 'ajar', 'guna', 'teknologi', 'komputer', 'optimal', 'guna', 'masalah', 'transformasi', 'olah', 'data', 'proses', 'logika']\n"
     ]
    }
   ],
   "source": [
    "list_stem = []\n",
    "for reviews in list_token:\n",
    "    data_clean = []\n",
    "    for review in reviews:\n",
    "        if review not in data_stopword:\n",
    "            data_clean.append(stemmer.stem(review)) \n",
    "            print (data_clean)\n",
    "            list_stem.append(data_clean)"
   ]
  },
  {
   "cell_type": "code",
   "execution_count": 17,
   "id": "39ee45a6",
   "metadata": {},
   "outputs": [
    {
     "name": "stdout",
     "output_type": "stream",
     "text": [
      "15\n"
     ]
    }
   ],
   "source": [
    "from sklearn.feature_extraction.text import CountVectorizer, TfidfTransformer\n",
    "CV = CountVectorizer()\n",
    "term_fit=CV.fit(data_clean)\n",
    "print (len(term_fit.vocabulary_))"
   ]
  },
  {
   "cell_type": "code",
   "execution_count": 18,
   "id": "7dd9a15c",
   "metadata": {},
   "outputs": [
    {
     "name": "stdout",
     "output_type": "stream",
     "text": [
      "{'teknik': 12, 'informatika': 5, 'bidang': 1, 'ilmu': 4, 'ajar': 0, 'guna': 3, 'teknologi': 13, 'komputer': 6, 'optimal': 10, 'masalah': 8, 'transformasi': 14, 'olah': 9, 'data': 2, 'proses': 11, 'logika': 7}\n"
     ]
    }
   ],
   "source": [
    "print (term_fit.vocabulary_)"
   ]
  },
  {
   "cell_type": "code",
   "execution_count": 19,
   "id": "5df630a6",
   "metadata": {},
   "outputs": [
    {
     "name": "stdout",
     "output_type": "stream",
     "text": [
      "  (0, 1)\t1\n",
      "  (0, 2)\t1\n",
      "  (0, 3)\t1\n",
      "  (0, 4)\t1\n",
      "  (0, 5)\t1\n",
      "  (0, 6)\t1\n",
      "  (0, 7)\t1\n",
      "  (0, 8)\t1\n",
      "  (0, 10)\t1\n",
      "  (0, 11)\t1\n",
      "  (0, 12)\t1\n",
      "  (0, 13)\t1\n",
      "  (0, 14)\t1\n",
      "  (0, 14)\t0.279963578091378\n",
      "  (0, 13)\t0.279963578091378\n",
      "  (0, 12)\t0.279963578091378\n",
      "  (0, 11)\t0.279963578091378\n",
      "  (0, 10)\t0.279963578091378\n",
      "  (0, 8)\t0.279963578091378\n",
      "  (0, 7)\t0.279963578091378\n",
      "  (0, 6)\t0.279963578091378\n",
      "  (0, 5)\t0.279963578091378\n",
      "  (0, 4)\t0.279963578091378\n",
      "  (0, 3)\t0.24381291866362356\n",
      "  (0, 2)\t0.279963578091378\n",
      "  (0, 1)\t0.279963578091378\n"
     ]
    }
   ],
   "source": [
    "term_frekuency = term_fit.transform(kalimat)\n",
    "print (term_frekuency)\n",
    "term = term_fit.transform(data_clean) \n",
    "tfidf_transformer = TfidfTransformer().fit(term) #untuk menampung sumua kata\n",
    "tfidf = tfidf_transformer.transform(term_frekuency)   #menampung semua tapi hanya ingiin menampilkan term frekuensi\n",
    "print (tfidf)"
   ]
  },
  {
   "cell_type": "code",
   "execution_count": null,
   "id": "27e060c1",
   "metadata": {},
   "outputs": [],
   "source": []
  }
 ],
 "metadata": {
  "kernelspec": {
   "display_name": "Python 3 (ipykernel)",
   "language": "python",
   "name": "python3"
  },
  "language_info": {
   "codemirror_mode": {
    "name": "ipython",
    "version": 3
   },
   "file_extension": ".py",
   "mimetype": "text/x-python",
   "name": "python",
   "nbconvert_exporter": "python",
   "pygments_lexer": "ipython3",
   "version": "3.9.12"
  }
 },
 "nbformat": 4,
 "nbformat_minor": 5
}
