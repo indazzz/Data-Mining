{
 "cells": [
  {
   "cell_type": "markdown",
   "id": "7ac4d45d",
   "metadata": {},
   "source": [
    "# Analisis pemilihan ekstrakulikuler di SMA x"
   ]
  },
  {
   "cell_type": "markdown",
   "id": "c1a43988",
   "metadata": {},
   "source": [
    "#### Aturan pemilihan eskul:"
   ]
  },
  {
   "cell_type": "markdown",
   "id": "a8f69872",
   "metadata": {},
   "source": [
    "1. Siswa ataupun siswi wajib mengikuti ekstrakurikuler Pramuka\n",
    "2. Siswa ataupun siswi wajib memilih min 2 ekstrakurikuler (termasuk pramuka) dan max 3 ekstrakurikuler\n",
    "3. Hanya siswa/i kelas 10 dan 11 yang boleh mengikuti kegiatan ekstrakurikuler"
   ]
  },
  {
   "cell_type": "markdown",
   "id": "7ba95384",
   "metadata": {},
   "source": [
    "#### Deskripsi dataset:"
   ]
  },
  {
   "cell_type": "markdown",
   "id": "65cf49d3",
   "metadata": {},
   "source": [
    "1. Terdapat 150 data siswa/i yang tercatat dalam pemilihan kegiatan ekstrakurikuler\n",
    "2. Pada analisis ini menggunakan library apyori untuk menghitung aturan asosiasi menggunakan metode Apriori"
   ]
  },
  {
   "cell_type": "code",
   "execution_count": 1,
   "id": "ec5e2604",
   "metadata": {},
   "outputs": [
    {
     "name": "stdout",
     "output_type": "stream",
     "text": [
      "Requirement already satisfied: apyori in c:\\programdata\\anaconda3\\lib\\site-packages (1.1.2)\n",
      "Note: you may need to restart the kernel to use updated packages.\n"
     ]
    }
   ],
   "source": [
    "#menambahkan library apyori\n",
    "%pip install apyori"
   ]
  },
  {
   "cell_type": "markdown",
   "id": "f0b25a8f",
   "metadata": {},
   "source": [
    "### Import the Library"
   ]
  },
  {
   "cell_type": "code",
   "execution_count": 1,
   "id": "f06849d4",
   "metadata": {},
   "outputs": [],
   "source": [
    "import numpy as np\n",
    "import pandas as pd\n",
    "import matplotlib.pyplot as plt\n",
    "from apyori import apriori"
   ]
  },
  {
   "cell_type": "markdown",
   "id": "cbcf07bf",
   "metadata": {},
   "source": [
    "### Read data and Display"
   ]
  },
  {
   "cell_type": "code",
   "execution_count": 2,
   "id": "1013a512",
   "metadata": {},
   "outputs": [
    {
     "data": {
      "text/html": [
       "<div>\n",
       "<style scoped>\n",
       "    .dataframe tbody tr th:only-of-type {\n",
       "        vertical-align: middle;\n",
       "    }\n",
       "\n",
       "    .dataframe tbody tr th {\n",
       "        vertical-align: top;\n",
       "    }\n",
       "\n",
       "    .dataframe thead th {\n",
       "        text-align: right;\n",
       "    }\n",
       "</style>\n",
       "<table border=\"1\" class=\"dataframe\">\n",
       "  <thead>\n",
       "    <tr style=\"text-align: right;\">\n",
       "      <th></th>\n",
       "      <th>0</th>\n",
       "      <th>1</th>\n",
       "      <th>2</th>\n",
       "      <th>3</th>\n",
       "      <th>4</th>\n",
       "      <th>5</th>\n",
       "      <th>6</th>\n",
       "      <th>7</th>\n",
       "      <th>8</th>\n",
       "      <th>9</th>\n",
       "      <th>10</th>\n",
       "    </tr>\n",
       "  </thead>\n",
       "  <tbody>\n",
       "    <tr>\n",
       "      <th>0</th>\n",
       "      <td>No</td>\n",
       "      <td>Nama</td>\n",
       "      <td>Kelas</td>\n",
       "      <td>JenisKelamin</td>\n",
       "      <td>Pramuka</td>\n",
       "      <td>Paskibra</td>\n",
       "      <td>PMR</td>\n",
       "      <td>KIR</td>\n",
       "      <td>VolleyBall</td>\n",
       "      <td>SepakBola</td>\n",
       "      <td>Seni</td>\n",
       "    </tr>\n",
       "    <tr>\n",
       "      <th>1</th>\n",
       "      <td>1</td>\n",
       "      <td>ADI MULYANA</td>\n",
       "      <td>10 IPA 1</td>\n",
       "      <td>L</td>\n",
       "      <td>Pramuka</td>\n",
       "      <td>Paskibra</td>\n",
       "      <td>NaN</td>\n",
       "      <td>NaN</td>\n",
       "      <td>NaN</td>\n",
       "      <td>NaN</td>\n",
       "      <td>NaN</td>\n",
       "    </tr>\n",
       "    <tr>\n",
       "      <th>2</th>\n",
       "      <td>2</td>\n",
       "      <td>ADIK NUGROHO</td>\n",
       "      <td>10 IPA 1</td>\n",
       "      <td>L</td>\n",
       "      <td>Pramuka</td>\n",
       "      <td>Paskibra</td>\n",
       "      <td>NaN</td>\n",
       "      <td>NaN</td>\n",
       "      <td>NaN</td>\n",
       "      <td>NaN</td>\n",
       "      <td>NaN</td>\n",
       "    </tr>\n",
       "    <tr>\n",
       "      <th>3</th>\n",
       "      <td>3</td>\n",
       "      <td>AFRILIA ANGGI SAPUTRI</td>\n",
       "      <td>10 IPA 1</td>\n",
       "      <td>P</td>\n",
       "      <td>Pramuka</td>\n",
       "      <td>Paskibra</td>\n",
       "      <td>NaN</td>\n",
       "      <td>NaN</td>\n",
       "      <td>NaN</td>\n",
       "      <td>NaN</td>\n",
       "      <td>NaN</td>\n",
       "    </tr>\n",
       "    <tr>\n",
       "      <th>4</th>\n",
       "      <td>4</td>\n",
       "      <td>ALVINDI FAUZIAH</td>\n",
       "      <td>10 IPA 1</td>\n",
       "      <td>P</td>\n",
       "      <td>Pramuka</td>\n",
       "      <td>NaN</td>\n",
       "      <td>PMR</td>\n",
       "      <td>NaN</td>\n",
       "      <td>NaN</td>\n",
       "      <td>NaN</td>\n",
       "      <td>NaN</td>\n",
       "    </tr>\n",
       "    <tr>\n",
       "      <th>...</th>\n",
       "      <td>...</td>\n",
       "      <td>...</td>\n",
       "      <td>...</td>\n",
       "      <td>...</td>\n",
       "      <td>...</td>\n",
       "      <td>...</td>\n",
       "      <td>...</td>\n",
       "      <td>...</td>\n",
       "      <td>...</td>\n",
       "      <td>...</td>\n",
       "      <td>...</td>\n",
       "    </tr>\n",
       "    <tr>\n",
       "      <th>146</th>\n",
       "      <td>146</td>\n",
       "      <td>NOLA AFITRIANI</td>\n",
       "      <td>11 IPS 2</td>\n",
       "      <td>P</td>\n",
       "      <td>Pramuka</td>\n",
       "      <td>NaN</td>\n",
       "      <td>PMR</td>\n",
       "      <td>NaN</td>\n",
       "      <td>NaN</td>\n",
       "      <td>NaN</td>\n",
       "      <td>NaN</td>\n",
       "    </tr>\n",
       "    <tr>\n",
       "      <th>147</th>\n",
       "      <td>147</td>\n",
       "      <td>NUROHMAN</td>\n",
       "      <td>11 IPS 2</td>\n",
       "      <td>L</td>\n",
       "      <td>Pramuka</td>\n",
       "      <td>NaN</td>\n",
       "      <td>NaN</td>\n",
       "      <td>KIR</td>\n",
       "      <td>NaN</td>\n",
       "      <td>NaN</td>\n",
       "      <td>NaN</td>\n",
       "    </tr>\n",
       "    <tr>\n",
       "      <th>148</th>\n",
       "      <td>148</td>\n",
       "      <td>RIZAL SETIAWAN</td>\n",
       "      <td>11 IPS 2</td>\n",
       "      <td>L</td>\n",
       "      <td>Pramuka</td>\n",
       "      <td>NaN</td>\n",
       "      <td>NaN</td>\n",
       "      <td>NaN</td>\n",
       "      <td>VolleyBall</td>\n",
       "      <td>NaN</td>\n",
       "      <td>NaN</td>\n",
       "    </tr>\n",
       "    <tr>\n",
       "      <th>149</th>\n",
       "      <td>149</td>\n",
       "      <td>RIZKY ARIL GIAN</td>\n",
       "      <td>11 IPS 2</td>\n",
       "      <td>L</td>\n",
       "      <td>Pramuka</td>\n",
       "      <td>NaN</td>\n",
       "      <td>NaN</td>\n",
       "      <td>NaN</td>\n",
       "      <td>NaN</td>\n",
       "      <td>SepakBola</td>\n",
       "      <td>NaN</td>\n",
       "    </tr>\n",
       "    <tr>\n",
       "      <th>150</th>\n",
       "      <td>150</td>\n",
       "      <td>SITI ROHMAWATI</td>\n",
       "      <td>11 IPS 2</td>\n",
       "      <td>P</td>\n",
       "      <td>Pramuka</td>\n",
       "      <td>NaN</td>\n",
       "      <td>PMR</td>\n",
       "      <td>NaN</td>\n",
       "      <td>NaN</td>\n",
       "      <td>NaN</td>\n",
       "      <td>Seni</td>\n",
       "    </tr>\n",
       "  </tbody>\n",
       "</table>\n",
       "<p>151 rows × 11 columns</p>\n",
       "</div>"
      ],
      "text/plain": [
       "      0                      1         2             3        4         5   \\\n",
       "0     No                   Nama     Kelas  JenisKelamin  Pramuka  Paskibra   \n",
       "1      1            ADI MULYANA  10 IPA 1             L  Pramuka  Paskibra   \n",
       "2      2           ADIK NUGROHO  10 IPA 1             L  Pramuka  Paskibra   \n",
       "3      3  AFRILIA ANGGI SAPUTRI  10 IPA 1             P  Pramuka  Paskibra   \n",
       "4      4        ALVINDI FAUZIAH  10 IPA 1             P  Pramuka       NaN   \n",
       "..   ...                    ...       ...           ...      ...       ...   \n",
       "146  146         NOLA AFITRIANI  11 IPS 2             P  Pramuka       NaN   \n",
       "147  147               NUROHMAN  11 IPS 2             L  Pramuka       NaN   \n",
       "148  148         RIZAL SETIAWAN  11 IPS 2             L  Pramuka       NaN   \n",
       "149  149        RIZKY ARIL GIAN  11 IPS 2             L  Pramuka       NaN   \n",
       "150  150         SITI ROHMAWATI  11 IPS 2             P  Pramuka       NaN   \n",
       "\n",
       "      6    7           8          9     10  \n",
       "0    PMR  KIR  VolleyBall  SepakBola  Seni  \n",
       "1    NaN  NaN         NaN        NaN   NaN  \n",
       "2    NaN  NaN         NaN        NaN   NaN  \n",
       "3    NaN  NaN         NaN        NaN   NaN  \n",
       "4    PMR  NaN         NaN        NaN   NaN  \n",
       "..   ...  ...         ...        ...   ...  \n",
       "146  PMR  NaN         NaN        NaN   NaN  \n",
       "147  NaN  KIR         NaN        NaN   NaN  \n",
       "148  NaN  NaN  VolleyBall        NaN   NaN  \n",
       "149  NaN  NaN         NaN  SepakBola   NaN  \n",
       "150  PMR  NaN         NaN        NaN  Seni  \n",
       "\n",
       "[151 rows x 11 columns]"
      ]
     },
     "execution_count": 2,
     "metadata": {},
     "output_type": "execute_result"
    }
   ],
   "source": [
    "data = pd.read_csv(\"data_eskul.csv\", header=None)\n",
    "data"
   ]
  },
  {
   "cell_type": "markdown",
   "id": "c2d0bc02",
   "metadata": {},
   "source": [
    "### Preprocessing on Data"
   ]
  },
  {
   "cell_type": "markdown",
   "id": "927dafdf",
   "metadata": {},
   "source": [
    "Disini kita hanya membutuhkan beberapa kolom data berupa list untuk Algoritma Apriori."
   ]
  },
  {
   "cell_type": "code",
   "execution_count": 3,
   "id": "88d6f34c",
   "metadata": {},
   "outputs": [
    {
     "name": "stdout",
     "output_type": "stream",
     "text": [
      "<class 'list'>\n"
     ]
    }
   ],
   "source": [
    "records = []\n",
    "for i in range(1, 150): #mengambil data siswa/i dari data ke-1 sampai dengan 150\n",
    "    records.append([str(data.values[i, j]) for j in range(4, 10)]) #dengan semua kategori eskul, kecuali pramuka\n",
    "    \n",
    "print(type(records))"
   ]
  },
  {
   "cell_type": "markdown",
   "id": "ac3a35ae",
   "metadata": {},
   "source": [
    "### Apriori Algorithm"
   ]
  },
  {
   "cell_type": "markdown",
   "id": "f6e28c77",
   "metadata": {},
   "source": [
    "1. Menerapkan algoritma apriori pada data.\n",
    "2. Kami telah menyediakan min_support dan min_confidence dari sampel-set untuk menemukan aturan."
   ]
  },
  {
   "cell_type": "code",
   "execution_count": 8,
   "id": "509e9ce9",
   "metadata": {},
   "outputs": [],
   "source": [
    "association_rules = apriori(records, min_support=0.06, min_confidence=0.06, min_length=2)\n",
    "association_results = list(association_rules)"
   ]
  },
  {
   "cell_type": "code",
   "execution_count": 9,
   "id": "bd568bed",
   "metadata": {},
   "outputs": [
    {
     "name": "stdout",
     "output_type": "stream",
     "text": [
      "Ada 23 relasi yang didapatkan.\n"
     ]
    }
   ],
   "source": [
    "print(\"Ada {} relasi yang didapatkan.\".format(len(association_results)))"
   ]
  },
  {
   "cell_type": "code",
   "execution_count": 10,
   "id": "bcf70e02",
   "metadata": {},
   "outputs": [
    {
     "name": "stdout",
     "output_type": "stream",
     "text": [
      "frozenset({'KIR'})\n",
      "frozenset({'PMR'})\n",
      "frozenset({'Paskibra'})\n",
      "frozenset({'Pramuka'})\n",
      "frozenset({'SepakBola'})\n",
      "frozenset({'VolleyBall'})\n",
      "frozenset({'nan'})\n",
      "frozenset({'Pramuka', 'KIR'})\n",
      "frozenset({'nan', 'KIR'})\n",
      "frozenset({'Pramuka', 'PMR'})\n",
      "frozenset({'nan', 'PMR'})\n",
      "frozenset({'Paskibra', 'Pramuka'})\n",
      "frozenset({'Paskibra', 'nan'})\n",
      "frozenset({'SepakBola', 'Pramuka'})\n",
      "frozenset({'Pramuka', 'VolleyBall'})\n",
      "frozenset({'Pramuka', 'nan'})\n",
      "frozenset({'SepakBola', 'nan'})\n",
      "frozenset({'VolleyBall', 'nan'})\n",
      "frozenset({'Pramuka', 'nan', 'KIR'})\n",
      "frozenset({'Pramuka', 'nan', 'PMR'})\n",
      "frozenset({'Paskibra', 'nan', 'Pramuka'})\n",
      "frozenset({'SepakBola', 'Pramuka', 'nan'})\n",
      "frozenset({'Pramuka', 'nan', 'VolleyBall'})\n"
     ]
    }
   ],
   "source": [
    "for i in range(0, len(association_results)):\n",
    "    print(association_results[i][0])"
   ]
  },
  {
   "cell_type": "code",
   "execution_count": 13,
   "id": "4c03bd9e",
   "metadata": {},
   "outputs": [
    {
     "name": "stdout",
     "output_type": "stream",
     "text": [
      "Rule: KIR\n",
      "Support: 0.26174496644295303\n",
      "Confidence: 0.26174496644295303\n",
      "Lift: 1.0\n",
      "=====================================\n",
      "Rule: PMR\n",
      "Support: 0.2214765100671141\n",
      "Confidence: 0.2214765100671141\n",
      "Lift: 1.0\n",
      "=====================================\n",
      "Rule: Paskibra\n",
      "Support: 0.2348993288590604\n",
      "Confidence: 0.2348993288590604\n",
      "Lift: 1.0\n",
      "=====================================\n",
      "Rule: Pramuka\n",
      "Support: 1.0\n",
      "Confidence: 1.0\n",
      "Lift: 1.0\n",
      "=====================================\n",
      "Rule: SepakBola\n",
      "Support: 0.18120805369127516\n",
      "Confidence: 0.18120805369127516\n",
      "Lift: 1.0\n",
      "=====================================\n",
      "Rule: VolleyBall\n",
      "Support: 0.2080536912751678\n",
      "Confidence: 0.2080536912751678\n",
      "Lift: 1.0\n",
      "=====================================\n",
      "Rule: nan\n",
      "Support: 1.0\n",
      "Confidence: 1.0\n",
      "Lift: 1.0\n",
      "=====================================\n",
      "Rule: Pramuka\n",
      "Support: 0.26174496644295303\n",
      "Confidence: 0.26174496644295303\n",
      "Lift: 1.0\n",
      "=====================================\n",
      "Rule: nan\n",
      "Support: 0.26174496644295303\n",
      "Confidence: 0.26174496644295303\n",
      "Lift: 1.0\n",
      "=====================================\n",
      "Rule: Pramuka\n",
      "Support: 0.2214765100671141\n",
      "Confidence: 0.2214765100671141\n",
      "Lift: 1.0\n",
      "=====================================\n",
      "Rule: nan\n",
      "Support: 0.2214765100671141\n",
      "Confidence: 0.2214765100671141\n",
      "Lift: 1.0\n",
      "=====================================\n",
      "Rule: Paskibra\n",
      "Support: 0.2348993288590604\n",
      "Confidence: 0.2348993288590604\n",
      "Lift: 1.0\n",
      "=====================================\n",
      "Rule: Paskibra\n",
      "Support: 0.2348993288590604\n",
      "Confidence: 0.2348993288590604\n",
      "Lift: 1.0\n",
      "=====================================\n",
      "Rule: SepakBola\n",
      "Support: 0.18120805369127516\n",
      "Confidence: 0.18120805369127516\n",
      "Lift: 1.0\n",
      "=====================================\n",
      "Rule: Pramuka\n",
      "Support: 0.2080536912751678\n",
      "Confidence: 0.2080536912751678\n",
      "Lift: 1.0\n",
      "=====================================\n",
      "Rule: Pramuka\n",
      "Support: 1.0\n",
      "Confidence: 1.0\n",
      "Lift: 1.0\n",
      "=====================================\n",
      "Rule: SepakBola\n",
      "Support: 0.18120805369127516\n",
      "Confidence: 0.18120805369127516\n",
      "Lift: 1.0\n",
      "=====================================\n",
      "Rule: VolleyBall\n",
      "Support: 0.2080536912751678\n",
      "Confidence: 0.2080536912751678\n",
      "Lift: 1.0\n",
      "=====================================\n",
      "Rule: Pramuka\n",
      "Support: 0.26174496644295303\n",
      "Confidence: 0.26174496644295303\n",
      "Lift: 1.0\n",
      "=====================================\n",
      "Rule: Pramuka\n",
      "Support: 0.2214765100671141\n",
      "Confidence: 0.2214765100671141\n",
      "Lift: 1.0\n",
      "=====================================\n",
      "Rule: Paskibra\n",
      "Support: 0.2348993288590604\n",
      "Confidence: 0.2348993288590604\n",
      "Lift: 1.0\n",
      "=====================================\n",
      "Rule: SepakBola\n",
      "Support: 0.18120805369127516\n",
      "Confidence: 0.18120805369127516\n",
      "Lift: 1.0\n",
      "=====================================\n",
      "Rule: Pramuka\n",
      "Support: 0.2080536912751678\n",
      "Confidence: 0.2080536912751678\n",
      "Lift: 1.0\n",
      "=====================================\n"
     ]
    }
   ],
   "source": [
    "for item in association_results:\n",
    "    # first index of the inner list\n",
    "    # Contains base item and add item\n",
    "    pair = item[0]\n",
    "    items = [x for x in pair]\n",
    "    print(\"Rule: \" + items[0] )\n",
    "\n",
    "    # second index of the inner list\n",
    "    print(\"Support: \" + str(item[1]))\n",
    "\n",
    "    # third index of the list located at 0th\n",
    "    # of the third index of the inner list\n",
    "\n",
    "    print(\"Confidence: \" + str(item[2][0][2]))\n",
    "    print(\"Lift: \" + str(item[2][0][3]))\n",
    "    print(\"=====================================\")"
   ]
  },
  {
   "cell_type": "code",
   "execution_count": null,
   "id": "9b007e05",
   "metadata": {},
   "outputs": [],
   "source": []
  },
  {
   "cell_type": "code",
   "execution_count": null,
   "id": "51464f27",
   "metadata": {},
   "outputs": [],
   "source": []
  },
  {
   "cell_type": "code",
   "execution_count": null,
   "id": "43f2ec46",
   "metadata": {},
   "outputs": [],
   "source": []
  },
  {
   "cell_type": "code",
   "execution_count": null,
   "id": "b6f6c898",
   "metadata": {},
   "outputs": [],
   "source": []
  },
  {
   "cell_type": "code",
   "execution_count": null,
   "id": "96f08ed3",
   "metadata": {},
   "outputs": [],
   "source": []
  }
 ],
 "metadata": {
  "kernelspec": {
   "display_name": "Python 3 (ipykernel)",
   "language": "python",
   "name": "python3"
  },
  "language_info": {
   "codemirror_mode": {
    "name": "ipython",
    "version": 3
   },
   "file_extension": ".py",
   "mimetype": "text/x-python",
   "name": "python",
   "nbconvert_exporter": "python",
   "pygments_lexer": "ipython3",
   "version": "3.9.7"
  }
 },
 "nbformat": 4,
 "nbformat_minor": 5
}
