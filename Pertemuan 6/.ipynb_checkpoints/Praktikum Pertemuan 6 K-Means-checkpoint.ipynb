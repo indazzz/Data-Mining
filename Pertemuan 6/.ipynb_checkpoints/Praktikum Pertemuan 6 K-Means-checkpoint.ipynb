{
 "cells": [
  {
   "cell_type": "code",
   "execution_count": null,
   "id": "dd7a3dbc",
   "metadata": {},
   "outputs": [],
   "source": [
    "import pandas as pd\n",
    "from openpyxl import load_workbook\n",
    "from sklearn.cluster import KMeans\n",
    "import matplotlib.pyplot as plt"
   ]
  },
  {
   "cell_type": "code",
   "execution_count": null,
   "id": "23d0764e",
   "metadata": {},
   "outputs": [],
   "source": [
    "df = pd.read_csv (r'DataAlumni.csv')\n",
    "df"
   ]
  },
  {
   "cell_type": "code",
   "execution_count": null,
   "id": "316ce4f9",
   "metadata": {},
   "outputs": [],
   "source": [
    "df.columns =['No', 'NIM', 'Nama', 'TTL', 'FakultasKeterampilan', 'Alamat', 'TahunMasuk', 'TahunLulus', 'StatusKerja', 'LamaMasaTunggu', 'GajiPertama', 'TOEFL', 'IPK']\n",
    "df"
   ]
  },
  {
   "cell_type": "code",
   "execution_count": null,
   "id": "53e8e0f9",
   "metadata": {},
   "outputs": [],
   "source": [
    "df.apa hayo?().sum()"
   ]
  },
  {
   "cell_type": "code",
   "execution_count": null,
   "id": "e22a5414",
   "metadata": {},
   "outputs": [],
   "source": [
    "def_alamat = 'Yogyakarta'\n",
    "df.Alamat.apa lagi hayo(def_alamat, inplace = True)\n",
    "df"
   ]
  },
  {
   "cell_type": "code",
   "execution_count": null,
   "id": "7d4a7f75",
   "metadata": {},
   "outputs": [],
   "source": [
    "def_statusKerja = 'Mahasiswa'\n",
    "df.StatusKerja.fillna(def_statusKerja, inplace = True)\n",
    "df"
   ]
  },
  {
   "cell_type": "code",
   "execution_count": null,
   "id": "ea244997",
   "metadata": {},
   "outputs": [],
   "source": [
    "mean_LamaTunggu = df.LamaMasaTunggu.mean()\n",
    "mean_GajiPertama = df.GajiPertama.mean()\n",
    "mean_TOEFL = df.TOEFL.mean()\n",
    "mean_IPK = df.IPK.mean()"
   ]
  },
  {
   "cell_type": "code",
   "execution_count": null,
   "id": "c8940836",
   "metadata": {},
   "outputs": [],
   "source": [
    "df.LamaMasaTunggu.fillna(mean_LamaTunggu, inplace=True)\n",
    "df.GajiPertama.fillna(mean_GajiPertama, inplace=True)\n",
    "df.TOEFL.fillna(mean_TOEFL, inplace=True)\n",
    "df.IPK.fillna(mean_IPK, inplace=True)\n",
    "df"
   ]
  },
  {
   "cell_type": "code",
   "execution_count": null,
   "id": "96bef57a",
   "metadata": {},
   "outputs": [],
   "source": [
    "for index, row in df.iterrows():\n",
    "    df.loc[ada yang kurang ga?, 'TahunLahir'] = row['TTL'][-4:]\n",
    "\n",
    "df"
   ]
  },
  {
   "cell_type": "code",
   "execution_count": null,
   "id": "099b3c18",
   "metadata": {},
   "outputs": [],
   "source": [
    "from datetime import datetime\n",
    "now = datetime.now()\n",
    "\n",
    "now.year\n",
    "for index, row in df.iterrows():\n",
    "    df.bingung[index, 'Usia'] = now.year - int (row['TahunLahir'])\n",
    "    \n",
    "df"
   ]
  },
  {
   "cell_type": "code",
   "execution_count": null,
   "id": "e118591d",
   "metadata": {
    "scrolled": true
   },
   "outputs": [],
   "source": [
    "for index, row in df.iterrows():\n",
    "    df.loc[index, 'MasaStudi'] = row['TahunLulus'] - row['TahunMasuk']\n",
    "    \n",
    "df"
   ]
  },
  {
   "cell_type": "code",
   "execution_count": null,
   "id": "9846cab0",
   "metadata": {},
   "outputs": [],
   "source": [
    "for index, row in df.iterrows():\n",
    "    df.loc[index, 'MasaStudi'] = row['TahunLulus'] - row['TahunMasuk']\n",
    "df"
   ]
  },
  {
   "cell_type": "code",
   "execution_count": null,
   "id": "0bd1fe39",
   "metadata": {},
   "outputs": [],
   "source": [
    "df['IPK'] = df['IPK'].apply(str)\n",
    "df['IPK'] = df['IPK'].str.replace(',','.').apply(float)\n",
    "df"
   ]
  },
  {
   "cell_type": "code",
   "execution_count": null,
   "id": "ca8c1cf1",
   "metadata": {},
   "outputs": [],
   "source": [
    "for index, row in df.iterrows():\n",
    "    if row['IPK'] > 3.50:\n",
    "        df.loc[index, 'NilaiIPK'] = 'Max'\n",
    "    elifar row['IPK'] >= 2.75:\n",
    "        df.loc[index, 'NilaiIPK'] = 'Avg'\n",
    "    else:\n",
    "        df.loc[index, 'NilaiIPK'] = 'Min'\n",
    "df[['NIM', 'IPK', 'NilaiIPK']]"
   ]
  },
  {
   "cell_type": "code",
   "execution_count": null,
   "id": "e81bf5f6",
   "metadata": {},
   "outputs": [],
   "source": [
    "for index, wor in df.iterrows():\n",
    "    if row['TOEFL'] > 500:\n",
    "        df.loc[index, 'Predikat'] = 'T3'\n",
    "    elif row['TOEFL'] >= 450:\n",
    "        df.loc[index, 'Predikat'] = 'T2'\n",
    "    else:\n",
    "        df.loc[index, 'Predikat'] = 'T1'\n",
    "\n",
    "df[['NIM', 'IPK', 'TOEFL', 'Predikat']]"
   ]
  },
  {
   "cell_type": "code",
   "execution_count": null,
   "id": "f9e6c541",
   "metadata": {},
   "outputs": [],
   "source": [
    "for index, row in df.iterrows():\n",
    "    if row['LamaMasaTunggu'] > 500:\n",
    "        df.loc[index, 'LAMATUNGGU'] = 'W4'\n",
    "    elif row['LamaMasaTunggu'] >= 450:\n",
    "        df.loc[index, 'LAMATUNGGU'] = 'W3'\n",
    "    elif row['LamaMasaTunggu'] >= 450:\n",
    "        df.loc[index, 'LAMATUNGGU'] = 'W2'\n",
    "    else:\n",
    "        df.loc[index, 'LAMATUNGGU'] = 'W1'\n",
    "\n",
    "df[['NIM', 'IPK', 'TOEFL', 'LAMATUNGGU']]"
   ]
  },
  {
   "cell_type": "code",
   "execution_count": null,
   "id": "1cc64377",
   "metadata": {},
   "outputs": [],
   "source": [
    "for index, row in df.iterrows():\n",
    "    if row['MasaStudi'] > 4:\n",
    "        df.loc[index, 'MASASTUDI'] = 'TTW'\n",
    "    else:\n",
    "        df.loc[index, 'MASASTUDI'] = 'TW'\n",
    "    \n",
    "df[['NIM', 'IPK', 'TOEFL', 'LAMATUNGGU', 'MASASTUDI']]"
   ]
  },
  {
   "cell_type": "code",
   "execution_count": null,
   "id": "502a3247",
   "metadata": {},
   "outputs": [],
   "source": [
    "for index, row in df.iterrows():\n",
    "    if row['Usia'] >= 25:\n",
    "        df.loc[index, 'USIA'] = 'TP'\n",
    "    else:\n",
    "        df.loc[index, 'USIA'] = 'UP'\n",
    "    \n",
    "df[['NIM', 'IPK', 'TOEFL', 'LAMATUNGGU', 'MASASTUDI', 'USIA']]"
   ]
  },
  {
   "cell_type": "code",
   "execution_count": null,
   "id": "2db185ef",
   "metadata": {},
   "outputs": [],
   "source": [
    "df[['NIM', 'TahunMasuk', 'TahunLulus', 'IPK', 'MasaStudi']]"
   ]
  },
  {
   "cell_type": "code",
   "execution_count": null,
   "id": "a6a807dc",
   "metadata": {},
   "outputs": [],
   "source": [
    "tabel = df.reset_index(drop = True)\n",
    "tabel"
   ]
  },
  {
   "cell_type": "code",
   "execution_count": null,
   "id": "717bc2f4",
   "metadata": {},
   "outputs": [],
   "source": [
    "x = tabel[['IPK', 'MasaStudi']].vulues\n",
    "print(x)"
   ]
  },
  {
   "cell_type": "code",
   "execution_count": null,
   "id": "6682254f",
   "metadata": {},
   "outputs": [],
   "source": [
    "kmeans = KMeans(n_clusters = 3)\n",
    "kmeans.fit(x)\n",
    "\n",
    "centroids = kmeans.cluster_centers_\n",
    "labels = kmeans.labels_\n",
    "colors = ['g.', 'r.', 'b.']\n",
    "\n",
    "plt.figure(figsize = (15,10))\n",
    "\n",
    "for i in range(len(x)):\n",
    "    print ('coordinate %s '%i, x[i], 'labels %s' %labels[i])\n",
    "    plt.plot(x[i][0], x[i][1], colors[labels[i]], markersize=10)\n",
    "    list_cluster = tabel[(tabel['IPK'] == x[i][0]) & (tabel['MasaStudi'] == x[i][1])].index.tolist()\n",
    "    plt.text(x[i][0], x[i][1], '%s' %(list_cluster))\n",
    "plt.scatter(centroids[: , 0], centroids[: , 1], marker = 'x', s = 50, linewidths = 5, zorder = 10)\n",
    "plt.show()"
   ]
  },
  {
   "cell_type": "code",
   "execution_count": null,
   "id": "ddf6d036",
   "metadata": {},
   "outputs": [],
   "source": [
    "from __future__ import print_function\n",
    "from sklearn.metrics import silhouette_samples, silhouette_score\n",
    "import matplotlib.cm as cm\n",
    "import numpy as np\n",
    "\n",
    "print(__doc__)\n",
    "\n",
    "def silhoutte_test(X, range_n_clusters):\n",
    "    for n_clusters in range_n_clusters:\n",
    "# Create a subplot with 1 row and 2 columns\n",
    "        fig, (ax1, ax2) = plt.subplots(1, 2)\n",
    "        fig.set_size_inches(18, 7)\n",
    "    \n",
    "# The 1st subplot is the silhouette plot\n",
    "# The silhouette coefficient can range from -1, 1 but in this example all\n",
    "# lie within [-0.1, 1]\n",
    "        ax1.set_xlim([-0.1, 1])\n",
    "# The (n_clusters+1)*10 is for inserting blank space between silhouette\n",
    "# plots of individual clusters, to demarcate them clearly.\n",
    "        ax1.set_ylim([0, len(X) + (n_clusters + 1) * 10])\n",
    "    \n",
    "# Initialize the clusterer with n_clusters value and a random generator\n",
    "# seed of 10 for reproducibility.\n",
    "        clusterer = KMeans(n_clusters=n_clusters, random_state=10)\n",
    "        cluster_labels = clusterer.fit_predict(X)\n",
    "    \n",
    "# The silhouette_score gives the average value for all the samples.\n",
    "# This gives a perspective into the density and separation of the formed\n",
    "# clusters\n",
    "        silhouette_avg = silhouette_score(X, cluster_labels)\n",
    "        print(\"For n_clusters =\", n_clusters, \n",
    "              \"The average silhouette_score is :\", silhouette_avg)\n",
    "# Compute the silhouette scores for each sample\n",
    "        sample_silhouette_values = silhouette_samples(X, cluster_labels)\n",
    "    \n",
    "        y_lower = 10\n",
    "        for i in range(n_clusters):\n",
    "# Aggregate the silhouette scores for samples belonging to\n",
    "# cluster i, and sort them\n",
    "            ith_cluster_silhouette_values =                 sample_silhouette_values[cluster_labels == i]\n",
    "    \n",
    "            ith_cluster_silhouette_values.sort()\n",
    "        \n",
    "            size_cluster_i = ith_cluster_silhouette_values.shape[0]\n",
    "            y_upper = y_lower + size_cluster_i\n",
    "            \n",
    "            color = cm.nipy_spectral(float(i) / n_clusters)\n",
    "            ax1.fill_betweenx(np.arange(y_lower, y_upper),\n",
    "                              0, ith_cluster_silhouette_values,\n",
    "                              facecolor=color, edgecolor=color, alpha=0.7)\n",
    "# Label the silhouette plots with their cluster numbers at the middle\n",
    "            ax1.text(-0.05, y_lower + 0.5 * size_cluster_i, str(i))\n",
    "# Compute the new y_lower for next plot\n",
    "            y_lower = y_upper + 10 # 10 for the 0 samples\n",
    "    ax1.set_title(\"The silhouette plot for the various clusters.\")\n",
    "    ax1.set_xlabel(\"The silhouette coefficient values\")\n",
    "    ax1.set_ylabel(\"Cluster label\")\n",
    "# The vertical line for average silhouette score of all the values\n",
    "    ax1.axvline(x=silhouette_avg, color=\"red\", linestyle=\"--\")\n",
    "    ax1.set_yticks([]) # Clear the yaxis labels / ticks\n",
    "    ax1.set_xticks([-0.1, 0, 0.2, 0.4, 0.6, 0.8, 1])\n",
    "# 2nd Plot showing the actual clusters formed\n",
    "    colors = cm.nipy_spectral(cluster_labels.astype(float) / n_clusters)\n",
    "    ax2.scatter(X[:, 0], X[:, 1], marker='.', s=30, lw=0, alpha=0.7,c=colors)\n",
    "# Labeling the clusters\n",
    "    centers = clusterer.cluster_centers_\n",
    "# Draw white circles at cluster centers\n",
    "    ax2.scatter(centers[:, 0], centers[:, 1],marker='o', c=\"white\", alpha=1, s=200)\n",
    "    for i, c in enumerate(centers):\n",
    "        ax2.scatter(c[0], c[1], marker='$%d$' % i, alpha=1, s=50)\n",
    "        \n",
    "    ax2.set_title(\"The visualization of the clustered data.\")\n",
    "    ax2.set_xlabel(\"Feature space for the 1st feature\")\n",
    "    ax2.set_ylabel(\"Feature space for the 2nd feature\")\n",
    "    \n",
    "    plt.suptitle((\"Silhouette analysis for KMeans clustering on sample data \"\n",
    "                  \"with n_clusters = %d\" % n_clusters),\n",
    "                 fontsize=14, fontweight='bold')\n",
    "\n",
    "    plt.show()"
   ]
  },
  {
   "cell_type": "code",
   "execution_count": null,
   "id": "1fd5d0c4",
   "metadata": {},
   "outputs": [],
   "source": [
    "range_clusters = [2,3,4,5,6,7,8]\n",
    "silhoutte_test(x, range_clusters)"
   ]
  },
  {
   "cell_type": "code",
   "execution_count": null,
   "id": "547fb4fa",
   "metadata": {},
   "outputs": [],
   "source": [
    "import numpy as np\n",
    "def purity_score (cluster, classes):\n",
    "    A = np.c_[(cluster, classes)]\n",
    "    n_accurate = 0.\n",
    "    for j in np.unique(A[:,0]):\n",
    "        z=A[A[:,0]==j, 1]\n",
    "        x=np.argmax(np.max(z))\n",
    "        n_accurate += len(z[z==x])\n",
    "    return n_accurate/A.shape[0]"
   ]
  },
  {
   "cell_type": "code",
   "execution_count": null,
   "id": "8ab2ee7c",
   "metadata": {},
   "outputs": [],
   "source": [
    "classes = [0,0,2,1,2,2,2,1,1,1,2,0,1,0,2,1]\n",
    "print('clusters : %s' %labels)\n",
    "print('clusters : %s' %np.array(classes))\n",
    "purity_score(labels, classes)"
   ]
  },
  {
   "cell_type": "code",
   "execution_count": null,
   "id": "28550ffe",
   "metadata": {},
   "outputs": [],
   "source": []
  }
 ],
 "metadata": {
  "kernelspec": {
   "display_name": "Python 3 (ipykernel)",
   "language": "python",
   "name": "python3"
  },
  "language_info": {
   "codemirror_mode": {
    "name": "ipython",
    "version": 3
   },
   "file_extension": ".py",
   "mimetype": "text/x-python",
   "name": "python",
   "nbconvert_exporter": "python",
   "pygments_lexer": "ipython3",
   "version": "3.9.12"
  }
 },
 "nbformat": 4,
 "nbformat_minor": 5
}
